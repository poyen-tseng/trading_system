{
 "cells": [
  {
   "cell_type": "code",
   "execution_count": 1,
   "metadata": {},
   "outputs": [],
   "source": [
    "import numpy as np\n",
    "import pandas as pd\n",
    "from sklearn.metrics import r2_score\n",
    "from tensorflow.keras.models import Sequential\n",
    "from tensorflow.keras.layers import LSTM, Dense\n",
    "from tensorflow.keras.callbacks import EarlyStopping\n",
    "from sklearn.preprocessing import StandardScaler"
   ]
  },
  {
   "cell_type": "code",
   "execution_count": 2,
   "metadata": {},
   "outputs": [],
   "source": [
    "data = pd.read_csv(\"datas/5min_MYM_只用IB量價資料_regression.csv\")\n"
   ]
  },
  {
   "cell_type": "code",
   "execution_count": null,
   "metadata": {},
   "outputs": [],
   "source": [
    "data = pd.read_csv(\"datas/5min_MYM_只用IB量價資料_class.csv\")\n"
   ]
  },
  {
   "cell_type": "code",
   "execution_count": 3,
   "metadata": {},
   "outputs": [],
   "source": [
    "data_df=data.copy()\n",
    "data_df['datetime']=pd.to_datetime(data_df['datetime'])\n",
    "# 移除15:00~17:00以及03:00~04:00的資料\n",
    "data_df_清洗 = data_df[\n",
    "    (data_df[\"datetime\"].dt.time >= pd.to_datetime(\"17:00:00\").time())\n",
    "    | (data_df[\"datetime\"].dt.time <= pd.to_datetime(\"03:00:00\").time())\n",
    "]\n",
    "# data.drop([\"datetime\"], axis=1, inplace=True)"
   ]
  },
  {
   "cell_type": "code",
   "execution_count": 4,
   "metadata": {},
   "outputs": [],
   "source": [
    "numeric_cols = data_df_清洗.select_dtypes(include=[\"number\"]).columns\n",
    "filtered_rows = data_df_清洗[(data_df_清洗[numeric_cols] > 999999999).any(axis=1)]\n",
    "data_df_清洗 = filtered_rows.dropna()\n",
    "# 檢查篩選後的行\n",
    "# print(filtered_rows)"
   ]
  },
  {
   "cell_type": "code",
   "execution_count": 5,
   "metadata": {},
   "outputs": [],
   "source": [
    "# 13873 row\n",
    "df_train=data_df_清洗.iloc[:10000]\n",
    "df_validation=data_df_清洗.iloc[10000:13000]\n",
    "df_predict = data_df_清洗.iloc[13000:13800]"
   ]
  },
  {
   "cell_type": "code",
   "execution_count": 6,
   "metadata": {},
   "outputs": [],
   "source": [
    "# 假設 data 是您的 dataframe\n",
    "# 先定義特徵和目標變數\n",
    "features = [\n",
    "            \"open\",\n",
    "            \"high\",\n",
    "            \"low\",\n",
    "            \"close\",\n",
    "            \"volume\",\n",
    "            \"ma_5\",\n",
    "            \"ma_10\",\n",
    "            \"ma_20\",\n",
    "            \"volume_ma_5\",\n",
    "            \"volume_ma_10\",\n",
    "            \"volume_ma_20\",\n",
    "            \"cumulative_volume\",\n",
    "            \"cumulative_volume_price\",\n",
    "            \"VWAP\",\n",
    "            \"lowest_low\",\n",
    "            \"highest_high\",\n",
    "            \"%K\",\n",
    "            \"%D\",\n",
    "            \"RSI\",\n",
    "            \"MACD\",\n",
    "            \"Signal_Line\",\n",
    "            \"MACD_Histogram\",\n",
    "            \"BB_middle\",\n",
    "            \"BB_upper\",\n",
    "            \"BB_lower\",\n",
    "            \"return_15m\",\n",
    "            \"high_return_15m\",\n",
    "            \"low_return_15m\",\n",
    "            \"return_30m\",\n",
    "            \"high_return_30m\",\n",
    "            \"low_return_30m\",\n",
    "            \"return_60m\",\n",
    "            \"high_return_60m\",\n",
    "            \"low_return_60m\",\n",
    "            \"return_120m\",\n",
    "            \"high_return_120m\",\n",
    "            \"low_return_120m\",\n",
    "            \"return_240m\",\n",
    "            \"high_return_240m\",\n",
    "            \"low_return_240m\",\n",
    "            \"minutes_from_open\",\n",
    "]\n",
    "targets = [\n",
    "    \"future_5min_change\",\n",
    "    \"future_10min_change\",\n",
    "    \"future_15min_change\",\n",
    "    \"future_30min_change\",\n",
    "    \"future_60min_change\",\n",
    "    \"future_90min_change\",\n",
    "    \"future_120min_change\",\n",
    "    \"future_180min_change\",\n",
    "    \"future_240min_change\",\n",
    "]"
   ]
  },
  {
   "cell_type": "code",
   "execution_count": 7,
   "metadata": {},
   "outputs": [
    {
     "name": "stderr",
     "output_type": "stream",
     "text": [
      "d:\\source\\Anaconda\\lib\\site-packages\\keras\\src\\layers\\rnn\\rnn.py:204: UserWarning: Do not pass an `input_shape`/`input_dim` argument to a layer. When using Sequential models, prefer using an `Input(shape)` object as the first layer in the model instead.\n",
      "  super().__init__(**kwargs)\n"
     ]
    },
    {
     "name": "stdout",
     "output_type": "stream",
     "text": [
      "Epoch 1/50\n",
      "\u001b[1m250/250\u001b[0m \u001b[32m━━━━━━━━━━━━━━━━━━━━\u001b[0m\u001b[37m\u001b[0m \u001b[1m7s\u001b[0m 11ms/step - loss: 0.3156 - val_loss: 0.3806\n",
      "Epoch 2/50\n",
      "\u001b[1m250/250\u001b[0m \u001b[32m━━━━━━━━━━━━━━━━━━━━\u001b[0m\u001b[37m\u001b[0m \u001b[1m2s\u001b[0m 8ms/step - loss: 0.1894 - val_loss: 0.3338\n",
      "Epoch 3/50\n",
      "\u001b[1m250/250\u001b[0m \u001b[32m━━━━━━━━━━━━━━━━━━━━\u001b[0m\u001b[37m\u001b[0m \u001b[1m2s\u001b[0m 8ms/step - loss: 0.1349 - val_loss: 0.5973\n",
      "Epoch 4/50\n",
      "\u001b[1m250/250\u001b[0m \u001b[32m━━━━━━━━━━━━━━━━━━━━\u001b[0m\u001b[37m\u001b[0m \u001b[1m3s\u001b[0m 11ms/step - loss: 0.1060 - val_loss: 0.4920\n",
      "Epoch 5/50\n",
      "\u001b[1m250/250\u001b[0m \u001b[32m━━━━━━━━━━━━━━━━━━━━\u001b[0m\u001b[37m\u001b[0m \u001b[1m4s\u001b[0m 17ms/step - loss: 0.0873 - val_loss: 0.4740\n",
      "Epoch 6/50\n",
      "\u001b[1m250/250\u001b[0m \u001b[32m━━━━━━━━━━━━━━━━━━━━\u001b[0m\u001b[37m\u001b[0m \u001b[1m5s\u001b[0m 18ms/step - loss: 0.0724 - val_loss: 0.5830\n",
      "Epoch 7/50\n",
      "\u001b[1m250/250\u001b[0m \u001b[32m━━━━━━━━━━━━━━━━━━━━\u001b[0m\u001b[37m\u001b[0m \u001b[1m5s\u001b[0m 19ms/step - loss: 0.0616 - val_loss: 0.5338\n",
      "\u001b[1m84/84\u001b[0m \u001b[32m━━━━━━━━━━━━━━━━━━━━\u001b[0m\u001b[37m\u001b[0m \u001b[1m2s\u001b[0m 15ms/step\n",
      "R2 Score for future_5min_change: -0.4313299834162809\n",
      "R2 Score for future_10min_change: -0.28019706111751175\n",
      "R2 Score for future_15min_change: -0.2998535134923681\n",
      "R2 Score for future_30min_change: -0.43077764819683106\n",
      "R2 Score for future_60min_change: -0.752015257709804\n",
      "R2 Score for future_90min_change: -0.9944749576897454\n",
      "R2 Score for future_120min_change: -0.7344529595350597\n",
      "R2 Score for future_180min_change: -1.1410454502777898\n",
      "R2 Score for future_240min_change: -1.4969088542101714\n"
     ]
    }
   ],
   "source": [
    "# 標準化特徵資料\n",
    "def scale_data(train_df, val_df, test_df):\n",
    "    scaler = StandardScaler()\n",
    "    train_scaled = scaler.fit_transform(train_df[features])\n",
    "    val_scaled = scaler.transform(val_df[features])\n",
    "    test_scaled = scaler.transform(test_df[features])\n",
    "    return train_scaled, val_scaled, test_scaled, scaler\n",
    "\n",
    "# 建立移動窗格資料\n",
    "def create_rolling_window(data, target, window_size=10):\n",
    "    X = []\n",
    "    y = []\n",
    "    for i in range(window_size, len(data)):\n",
    "        X.append(data[i - window_size:i])\n",
    "        y.append(target[i])\n",
    "    return np.array(X), np.array(y)\n",
    "\n",
    "# 建立 LSTM 模型\n",
    "def create_lstm_model(input_shape):\n",
    "    model = Sequential()\n",
    "    model.add(LSTM(64, input_shape=input_shape, return_sequences=True))\n",
    "    model.add(LSTM(32))\n",
    "    model.add(Dense(len(targets)))\n",
    "    model.compile(optimizer='adam', loss='mse')\n",
    "    return model\n",
    "\n",
    "# 訓練函數\n",
    "def train(df1, epochs=50, batch_size=32):\n",
    "    X_train_scaled, _, _, scaler = scale_data(df1, df1, df1)  # 標準化資料\n",
    "    target_train = df1[targets].values\n",
    "    X_train, y_train = create_rolling_window(X_train_scaled, target_train)\n",
    "\n",
    "    model = create_lstm_model((X_train.shape[1], X_train.shape[2]))\n",
    "    early_stopping = EarlyStopping(monitor='val_loss', patience=5, restore_best_weights=True)\n",
    "    model.fit(X_train, y_train, epochs=epochs, batch_size=batch_size, validation_split=0.2, callbacks=[early_stopping])\n",
    "    return model, scaler\n",
    "\n",
    "# 驗證函數\n",
    "def validation(model, scaler, df2):\n",
    "    _, X_val_scaled, _, _ = scale_data(df2, df2, df2)\n",
    "    target_val = df2[targets].values\n",
    "    X_val, y_val = create_rolling_window(X_val_scaled, target_val)\n",
    "    \n",
    "    y_pred = model.predict(X_val)\n",
    "    r2_scores = {}\n",
    "    for i, target in enumerate(targets):\n",
    "        r2_scores[target] = r2_score(y_val[:, i], y_pred[:, i])\n",
    "        print(f'R2 Score for {target}: {r2_scores[target]}')\n",
    "    return r2_scores\n",
    "\n",
    "# 預測函數\n",
    "def predict(model, scaler, df3):\n",
    "    _, _, X_test_scaled, _ = scale_data(df3, df3, df3)\n",
    "    target_test = df3[targets].values\n",
    "    X_test, y_test = create_rolling_window(X_test_scaled, target_test)\n",
    "\n",
    "    y_pred = model.predict(X_test)\n",
    "    r2_scores = {}\n",
    "    for i, target in enumerate(targets):\n",
    "        r2_scores[target] = r2_score(y_test[:, i], y_pred[:, i])\n",
    "        print(f'R2 Score for {target}: {r2_scores[target]}')\n",
    "    return y_pred, r2_scores\n",
    "\n",
    "# 執行訓練、驗證、預測\n",
    "model, scaler = train(df_train)\n",
    "validation_r2_scores = validation(model, scaler, df_validation)\n",
    "# predictions, predict_r2_scores = predict(model, scaler, df_predict)"
   ]
  },
  {
   "cell_type": "code",
   "execution_count": null,
   "metadata": {},
   "outputs": [],
   "source": []
  }
 ],
 "metadata": {
  "kernelspec": {
   "display_name": "base",
   "language": "python",
   "name": "python3"
  },
  "language_info": {
   "codemirror_mode": {
    "name": "ipython",
    "version": 3
   },
   "file_extension": ".py",
   "mimetype": "text/x-python",
   "name": "python",
   "nbconvert_exporter": "python",
   "pygments_lexer": "ipython3",
   "version": "3.9.13"
  }
 },
 "nbformat": 4,
 "nbformat_minor": 2
}
