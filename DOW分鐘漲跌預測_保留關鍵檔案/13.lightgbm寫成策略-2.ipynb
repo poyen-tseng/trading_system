{
 "cells": [
  {
   "cell_type": "code",
   "execution_count": 2,
   "metadata": {},
   "outputs": [
    {
     "name": "stderr",
     "output_type": "stream",
     "text": [
      "Duplicate key in file WindowsPath('d:/source/Anaconda/lib/site-packages/matplotlib/mpl-data/matplotlibrc'), line 258 ('font.family:  Microsoft JhengHei')\n"
     ]
    }
   ],
   "source": [
    "import pandas as pd \n",
    "import numpy as np \n",
    "import matplotlib.pyplot as plt\n",
    "import matplotlib.dates as mdates"
   ]
  },
  {
   "cell_type": "code",
   "execution_count": 3,
   "metadata": {},
   "outputs": [],
   "source": [
    "# prediction_df= pd.read_csv(\"datas/model_predictions.csv\")\n",
    "model_df= pd.read_csv(\"datas/predictions.csv\")\n"
   ]
  },
  {
   "cell_type": "code",
   "execution_count": 4,
   "metadata": {},
   "outputs": [
    {
     "data": {
      "text/plain": [
       "Index(['datetime', '成交口數', '成交筆數', '主動買入筆數', '主動賣出筆數', '距離開盤時間分鐘數', 'open',\n",
       "       'high', 'low', 'close', 'volume', '高低點幅', '收漲跌幅', '近10分鐘的收漲跌幅',\n",
       "       '近10分鐘高低點幅', '近10分鐘高點到現在的漲跌幅', '近10分鐘低點到現在的漲跌幅', '前10分鐘成交量總和',\n",
       "       '近30分鐘的收漲跌幅', '近30分鐘高低點幅', '近30分鐘高點到現在的漲跌幅', '近30分鐘低點到現在的漲跌幅',\n",
       "       '前30分鐘成交量總和', '近60分鐘的收漲跌幅', '近60分鐘高低點幅', '近60分鐘高點到現在的漲跌幅',\n",
       "       '近60分鐘低點到現在的漲跌幅', '前60分鐘成交量總和', '近120分鐘的收漲跌幅', '近120分鐘高低點幅',\n",
       "       '近120分鐘高點到現在的漲跌幅', '近120分鐘低點到現在的漲跌幅', '前120分鐘成交量總和', '台灣-美國高低掛', '星期幾',\n",
       "       'vwap', 'bollinger_upper', 'bollinger_lower', 'bollinger_bandwidth',\n",
       "       'rsi', 'macd_line', 'signal_line', '%K', '%D', 'atr',\n",
       "       'predicted_value'],\n",
       "      dtype='object')"
      ]
     },
     "execution_count": 4,
     "metadata": {},
     "output_type": "execute_result"
    }
   ],
   "source": [
    "model_df.columns"
   ]
  },
  {
   "cell_type": "code",
   "execution_count": 5,
   "metadata": {},
   "outputs": [
    {
     "data": {
      "text/plain": [
       "RangeIndex(start=0, stop=3000, step=1)"
      ]
     },
     "execution_count": 5,
     "metadata": {},
     "output_type": "execute_result"
    }
   ],
   "source": [
    "model_df.index"
   ]
  },
  {
   "cell_type": "code",
   "execution_count": 6,
   "metadata": {},
   "outputs": [],
   "source": [
    "strategy_df = model_df[[\"datetime\",\"close\", \"predicted_value\"]].copy()"
   ]
  },
  {
   "cell_type": "code",
   "execution_count": 7,
   "metadata": {},
   "outputs": [
    {
     "data": {
      "text/html": [
       "<div>\n",
       "<style scoped>\n",
       "    .dataframe tbody tr th:only-of-type {\n",
       "        vertical-align: middle;\n",
       "    }\n",
       "\n",
       "    .dataframe tbody tr th {\n",
       "        vertical-align: top;\n",
       "    }\n",
       "\n",
       "    .dataframe thead th {\n",
       "        text-align: right;\n",
       "    }\n",
       "</style>\n",
       "<table border=\"1\" class=\"dataframe\">\n",
       "  <thead>\n",
       "    <tr style=\"text-align: right;\">\n",
       "      <th></th>\n",
       "      <th>close</th>\n",
       "      <th>predicted_value</th>\n",
       "    </tr>\n",
       "  </thead>\n",
       "  <tbody>\n",
       "    <tr>\n",
       "      <th>count</th>\n",
       "      <td>3000.000000</td>\n",
       "      <td>3000.000000</td>\n",
       "    </tr>\n",
       "    <tr>\n",
       "      <th>mean</th>\n",
       "      <td>42754.492667</td>\n",
       "      <td>12.611830</td>\n",
       "    </tr>\n",
       "    <tr>\n",
       "      <th>std</th>\n",
       "      <td>371.595632</td>\n",
       "      <td>6.259276</td>\n",
       "    </tr>\n",
       "    <tr>\n",
       "      <th>min</th>\n",
       "      <td>42130.000000</td>\n",
       "      <td>4.414376</td>\n",
       "    </tr>\n",
       "    <tr>\n",
       "      <th>25%</th>\n",
       "      <td>42478.000000</td>\n",
       "      <td>6.932455</td>\n",
       "    </tr>\n",
       "    <tr>\n",
       "      <th>50%</th>\n",
       "      <td>42630.500000</td>\n",
       "      <td>12.093729</td>\n",
       "    </tr>\n",
       "    <tr>\n",
       "      <th>75%</th>\n",
       "      <td>43051.000000</td>\n",
       "      <td>16.302498</td>\n",
       "    </tr>\n",
       "    <tr>\n",
       "      <th>max</th>\n",
       "      <td>43569.000000</td>\n",
       "      <td>41.020568</td>\n",
       "    </tr>\n",
       "  </tbody>\n",
       "</table>\n",
       "</div>"
      ],
      "text/plain": [
       "              close  predicted_value\n",
       "count   3000.000000      3000.000000\n",
       "mean   42754.492667        12.611830\n",
       "std      371.595632         6.259276\n",
       "min    42130.000000         4.414376\n",
       "25%    42478.000000         6.932455\n",
       "50%    42630.500000        12.093729\n",
       "75%    43051.000000        16.302498\n",
       "max    43569.000000        41.020568"
      ]
     },
     "execution_count": 7,
     "metadata": {},
     "output_type": "execute_result"
    }
   ],
   "source": [
    "#統計model_df中,Predicted的分佈情況為何，並計算標準差\n",
    "strategy_df.describe()\n"
   ]
  },
  {
   "cell_type": "code",
   "execution_count": 8,
   "metadata": {},
   "outputs": [],
   "source": [
    "# 將model_df中,\"10分鐘後的漲跌幅_預測\"的值轉換為二值化，若\"10分鐘後的漲跌幅_預測\"大於等於mean+std則為1，若\"10分鐘後的漲跌幅_預測\"小於等於mean-std則為-1，其餘為0\n",
    "strategy_df[\"預測5分鐘後漲跌\"] = np.where(\n",
    "    strategy_df[\"predicted_value\"] >= strategy_df[\"predicted_value\"].quantile(0.75),\n",
    "    1,\n",
    "    np.where(\n",
    "        strategy_df[\"predicted_value\"] <= strategy_df[\"predicted_value\"].quantile(0.25),\n",
    "        -1,\n",
    "        0,\n",
    "    ),\n",
    ")"
   ]
  },
  {
   "cell_type": "code",
   "execution_count": 11,
   "metadata": {},
   "outputs": [
    {
     "data": {
      "text/plain": [
       "(48.93333333333334, 29.733333333333334)"
      ]
     },
     "execution_count": 11,
     "metadata": {},
     "output_type": "execute_result"
    }
   ],
   "source": [
    "要統計_df=strategy_df\n",
    "# 創建計數變量\n",
    "pred_1_count = 0\n",
    "pred_1_success = 0\n",
    "pred_neg1_count = 0\n",
    "pred_neg1_success = 0\n",
    "\n",
    "# 遍歷數據以滿足條件\n",
    "for i in range(len(要統計_df) - 2):  # 確保能夠訪問i+2行\n",
    "    current_close = 要統計_df.iloc[i][\"close\"]\n",
    "    future_close = 要統計_df.iloc[i + 2][\"close\"]\n",
    "    prediction = 要統計_df.iloc[i][\"預測5分鐘後漲跌\"]\n",
    "\n",
    "    # 當預測為1時\n",
    "    if prediction == 1:\n",
    "        pred_1_count += 1\n",
    "        if future_close > current_close+5:\n",
    "            pred_1_success += 1\n",
    "\n",
    "    # 當預測為-1時\n",
    "    elif prediction == -1:\n",
    "        pred_neg1_count += 1\n",
    "        if future_close < current_close-5:\n",
    "            pred_neg1_success += 1\n",
    "\n",
    "# 計算正確比例 / or 猜錯比例\n",
    "pred_1_success_rate = pred_1_success / pred_1_count * 100 if pred_1_count > 0 else None\n",
    "pred_neg1_success_rate = (\n",
    "    pred_neg1_success / pred_neg1_count * 100 if pred_neg1_count > 0 else None\n",
    ")\n",
    "\n",
    "pred_1_success_rate, pred_neg1_success_rate"
   ]
  },
  {
   "cell_type": "code",
   "execution_count": 34,
   "metadata": {},
   "outputs": [],
   "source": [
    "要繪製_df = strategy_df.copy()"
   ]
  },
  {
   "cell_type": "code",
   "execution_count": 35,
   "metadata": {},
   "outputs": [
    {
     "data": {
      "text/html": [
       "<div>\n",
       "<style scoped>\n",
       "    .dataframe tbody tr th:only-of-type {\n",
       "        vertical-align: middle;\n",
       "    }\n",
       "\n",
       "    .dataframe tbody tr th {\n",
       "        vertical-align: top;\n",
       "    }\n",
       "\n",
       "    .dataframe thead th {\n",
       "        text-align: right;\n",
       "    }\n",
       "</style>\n",
       "<table border=\"1\" class=\"dataframe\">\n",
       "  <thead>\n",
       "    <tr style=\"text-align: right;\">\n",
       "      <th></th>\n",
       "      <th>datetime</th>\n",
       "      <th>close</th>\n",
       "      <th>predicted_value</th>\n",
       "      <th>預測10分鐘後漲跌</th>\n",
       "    </tr>\n",
       "  </thead>\n",
       "  <tbody>\n",
       "    <tr>\n",
       "      <th>0</th>\n",
       "      <td>2024-10-02 02:35:00</td>\n",
       "      <td>42627.0</td>\n",
       "      <td>1.047947</td>\n",
       "      <td>1</td>\n",
       "    </tr>\n",
       "    <tr>\n",
       "      <th>1</th>\n",
       "      <td>2024-10-02 02:40:00</td>\n",
       "      <td>42633.0</td>\n",
       "      <td>0.134251</td>\n",
       "      <td>1</td>\n",
       "    </tr>\n",
       "    <tr>\n",
       "      <th>2</th>\n",
       "      <td>2024-10-02 02:45:00</td>\n",
       "      <td>42622.0</td>\n",
       "      <td>0.030630</td>\n",
       "      <td>1</td>\n",
       "    </tr>\n",
       "    <tr>\n",
       "      <th>3</th>\n",
       "      <td>2024-10-02 02:50:00</td>\n",
       "      <td>42609.0</td>\n",
       "      <td>-0.952274</td>\n",
       "      <td>0</td>\n",
       "    </tr>\n",
       "    <tr>\n",
       "      <th>4</th>\n",
       "      <td>2024-10-02 02:55:00</td>\n",
       "      <td>42612.0</td>\n",
       "      <td>-1.120601</td>\n",
       "      <td>-1</td>\n",
       "    </tr>\n",
       "    <tr>\n",
       "      <th>...</th>\n",
       "      <td>...</td>\n",
       "      <td>...</td>\n",
       "      <td>...</td>\n",
       "      <td>...</td>\n",
       "    </tr>\n",
       "    <tr>\n",
       "      <th>2995</th>\n",
       "      <td>2024-10-29 03:35:00</td>\n",
       "      <td>42652.0</td>\n",
       "      <td>-1.332978</td>\n",
       "      <td>-1</td>\n",
       "    </tr>\n",
       "    <tr>\n",
       "      <th>2996</th>\n",
       "      <td>2024-10-29 03:40:00</td>\n",
       "      <td>42654.0</td>\n",
       "      <td>-1.261483</td>\n",
       "      <td>-1</td>\n",
       "    </tr>\n",
       "    <tr>\n",
       "      <th>2997</th>\n",
       "      <td>2024-10-29 03:45:00</td>\n",
       "      <td>42640.0</td>\n",
       "      <td>-1.280301</td>\n",
       "      <td>-1</td>\n",
       "    </tr>\n",
       "    <tr>\n",
       "      <th>2998</th>\n",
       "      <td>2024-10-29 03:50:00</td>\n",
       "      <td>42624.0</td>\n",
       "      <td>-0.995497</td>\n",
       "      <td>0</td>\n",
       "    </tr>\n",
       "    <tr>\n",
       "      <th>2999</th>\n",
       "      <td>2024-10-29 03:55:00</td>\n",
       "      <td>42609.0</td>\n",
       "      <td>-0.733938</td>\n",
       "      <td>0</td>\n",
       "    </tr>\n",
       "  </tbody>\n",
       "</table>\n",
       "<p>3000 rows × 4 columns</p>\n",
       "</div>"
      ],
      "text/plain": [
       "                 datetime    close  predicted_value  預測10分鐘後漲跌\n",
       "0     2024-10-02 02:35:00  42627.0         1.047947          1\n",
       "1     2024-10-02 02:40:00  42633.0         0.134251          1\n",
       "2     2024-10-02 02:45:00  42622.0         0.030630          1\n",
       "3     2024-10-02 02:50:00  42609.0        -0.952274          0\n",
       "4     2024-10-02 02:55:00  42612.0        -1.120601         -1\n",
       "...                   ...      ...              ...        ...\n",
       "2995  2024-10-29 03:35:00  42652.0        -1.332978         -1\n",
       "2996  2024-10-29 03:40:00  42654.0        -1.261483         -1\n",
       "2997  2024-10-29 03:45:00  42640.0        -1.280301         -1\n",
       "2998  2024-10-29 03:50:00  42624.0        -0.995497          0\n",
       "2999  2024-10-29 03:55:00  42609.0        -0.733938          0\n",
       "\n",
       "[3000 rows x 4 columns]"
      ]
     },
     "execution_count": 35,
     "metadata": {},
     "output_type": "execute_result"
    }
   ],
   "source": [
    "要繪製_df"
   ]
  },
  {
   "cell_type": "code",
   "execution_count": 37,
   "metadata": {},
   "outputs": [],
   "source": [
    "# %matplotlib inline\n",
    "%matplotlib qt\n",
    "\n",
    "def plot_price_predictions(要繪製_df):\n",
    "    # 創建圖表\n",
    "    plt.figure(figsize=(15, 7))\n",
    "\n",
    "    # 繪製收盤價折線圖\n",
    "    plt.plot(\n",
    "        要繪製_df['datetime'],\n",
    "        要繪製_df[\"close\"],\n",
    "        color=\"blue\",\n",
    "        linewidth=1,\n",
    "        label=\"收盤價\",\n",
    "    )\n",
    "\n",
    "    # 設置箭號樣式\n",
    "    arrow_params = dict(arrowstyle=\"^\", linestyle=\"-\")\n",
    "\n",
    "\n",
    "    # 預測漲跌的箭號（深色）\n",
    "    for idx, row in 要繪製_df.iterrows():\n",
    "        if row[\"預測10分鐘後漲跌\"] == 1:\n",
    "            plt.plot(\n",
    "                row[\"datetime\"],\n",
    "                row[\"close\"],\n",
    "                marker=\"^\",\n",
    "                color=\"red\",\n",
    "                markersize=10,\n",
    "                label=\"預測上漲\" if idx == 要繪製_df.index[0] else \"\",\n",
    "            )\n",
    "        elif row[\"預測10分鐘後漲跌\"] == -1:\n",
    "            plt.plot(\n",
    "                row[\"datetime\"],\n",
    "                row[\"close\"],\n",
    "                marker=\"v\",\n",
    "                color=\"green\",\n",
    "                markersize=10,\n",
    "                label=\"預測下跌\" if idx == 要繪製_df.index[0] else \"\",\n",
    "            )\n",
    "\n",
    "    # 設置圖表樣式\n",
    "    plt.title(\"價格走勢與預測\", fontsize=12)\n",
    "    plt.xlabel(\"時間\")\n",
    "    plt.ylabel(\"價格\")\n",
    "    plt.grid(True, linestyle=\"--\", alpha=0.7)\n",
    "    plt.legend(loc=\"best\")\n",
    "\n",
    "    # 調整x軸標籤角度，避免重疊\n",
    "    plt.xticks(rotation=45)\n",
    "\n",
    "    # 自動調整布局\n",
    "    plt.tight_layout()\n",
    "\n",
    "    return plt\n",
    "\n",
    "\n",
    "# 使用示例：\n",
    "plot_price_predictions(要繪製_df)\n",
    "plt.show()"
   ]
  },
  {
   "cell_type": "code",
   "execution_count": null,
   "metadata": {},
   "outputs": [],
   "source": []
  },
  {
   "cell_type": "code",
   "execution_count": null,
   "metadata": {},
   "outputs": [],
   "source": []
  }
 ],
 "metadata": {
  "kernelspec": {
   "display_name": "base",
   "language": "python",
   "name": "python3"
  },
  "language_info": {
   "codemirror_mode": {
    "name": "ipython",
    "version": 3
   },
   "file_extension": ".py",
   "mimetype": "text/x-python",
   "name": "python",
   "nbconvert_exporter": "python",
   "pygments_lexer": "ipython3",
   "version": "3.9.13"
  }
 },
 "nbformat": 4,
 "nbformat_minor": 2
}
