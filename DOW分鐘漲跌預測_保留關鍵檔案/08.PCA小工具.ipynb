{
 "cells": [
  {
   "cell_type": "code",
   "execution_count": 1,
   "metadata": {},
   "outputs": [],
   "source": [
    "import numpy as np\n",
    "import pandas as pd\n",
    "from sklearn.decomposition import PCA\n"
   ]
  },
  {
   "cell_type": "code",
   "execution_count": 10,
   "metadata": {},
   "outputs": [],
   "source": [
    "df_origin = pd.read_csv(\"datas/5min_MYM_量價+YM+ES+VIX+ZN+RTY+NQ+DX資料_class.csv\")"
   ]
  },
  {
   "cell_type": "code",
   "execution_count": 22,
   "metadata": {},
   "outputs": [],
   "source": [
    "# 假设您的数据存储在一个名为'df'的pandas DataFrame中\n",
    "numeric_cols = df_origin.select_dtypes(include=[\"number\"]).columns\n",
    "filtered_rows = df_origin[(df_origin[numeric_cols] > 999999999).any(axis=1)]\n",
    "data_df_清洗 = filtered_rows.dropna().drop([\"Unnamed: 0\"], axis=1)\n",
    "data_df_清洗.set_index(\"datetime\", inplace=True)"
   ]
  },
  {
   "cell_type": "code",
   "execution_count": 23,
   "metadata": {},
   "outputs": [],
   "source": [
    "data_df_target = data_df_清洗[[\"future_5min_change\",\"future_10min_change\",\"future_15min_change\",\"future_30min_change\",\"future_60min_change\",\"future_90min_change\",\"future_120min_change\",\"future_180min_change\",\"future_240min_change\"]]\n",
    "data_df_feature = data_df_清洗.drop([\"future_5min_change\",\"future_10min_change\",\"future_15min_change\",\"future_30min_change\",\"future_60min_change\",\"future_90min_change\",\"future_120min_change\",\"future_180min_change\",\"future_240min_change\"], axis=1)"
   ]
  },
  {
   "cell_type": "code",
   "execution_count": 27,
   "metadata": {},
   "outputs": [
    {
     "name": "stdout",
     "output_type": "stream",
     "text": [
      "原始数据有130个特征,降维后只有37个主成分,保留了95%以上的方差信息。\n"
     ]
    }
   ],
   "source": [
    "df = data_df_feature.copy()\n",
    "\n",
    "# 标准化数据\n",
    "X = (df - df.mean()) / df.std()\n",
    "\n",
    "# 进行PCA降维\n",
    "pca = PCA()\n",
    "X_pca = pca.fit_transform(X)\n",
    "\n",
    "# 选择合适的主成分数量\n",
    "explained_variance_ratio = pca.explained_variance_ratio_\n",
    "n_components = next(i for i, v in enumerate(np.cumsum(explained_variance_ratio)) if v >= 0.95)\n",
    "\n",
    "# 将数据转换到新的PCA空间\n",
    "X_reduced = X_pca[:, :n_components]\n",
    "\n",
    "# 将降维后的数据保存到新的DataFrame\n",
    "df_reduced = pd.DataFrame(X_reduced, columns=[f'PC{i+1}' for i in range(n_components)], index=df.index)\n",
    "\n",
    "# 您现在可以使用df_reduced进行后续的数据分析和建模\n",
    "print(f'原始数据有{df.shape[1]}个特征,降维后只有{n_components}个主成分,保留了95%以上的方差信息。')"
   ]
  },
  {
   "cell_type": "code",
   "execution_count": 32,
   "metadata": {},
   "outputs": [],
   "source": [
    "data_PCAfinish = data_df_target.merge(df_reduced, on=\"datetime\", how=\"left\")"
   ]
  },
  {
   "cell_type": "code",
   "execution_count": 33,
   "metadata": {},
   "outputs": [],
   "source": [
    "data_PCAfinish.to_csv(\"datas/5min_MYM_量價+YM+ES+VIX+ZN+RTY+NQ+DX資料_class_PCA.csv\")"
   ]
  },
  {
   "cell_type": "code",
   "execution_count": null,
   "metadata": {},
   "outputs": [],
   "source": []
  },
  {
   "cell_type": "code",
   "execution_count": null,
   "metadata": {},
   "outputs": [],
   "source": []
  },
  {
   "cell_type": "code",
   "execution_count": null,
   "metadata": {},
   "outputs": [],
   "source": []
  }
 ],
 "metadata": {
  "kernelspec": {
   "display_name": "base",
   "language": "python",
   "name": "python3"
  },
  "language_info": {
   "codemirror_mode": {
    "name": "ipython",
    "version": 3
   },
   "file_extension": ".py",
   "mimetype": "text/x-python",
   "name": "python",
   "nbconvert_exporter": "python",
   "pygments_lexer": "ipython3",
   "version": "3.9.13"
  }
 },
 "nbformat": 4,
 "nbformat_minor": 2
}
